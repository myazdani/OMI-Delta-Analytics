{
 "cells": [
  {
   "cell_type": "code",
   "execution_count": 1,
   "metadata": {
    "collapsed": true
   },
   "outputs": [],
   "source": [
    "import pandas as pd"
   ]
  },
  {
   "cell_type": "code",
   "execution_count": 2,
   "metadata": {
    "collapsed": true
   },
   "outputs": [],
   "source": [
    "claimsDF = pd.read_csv(\"../../data/cleanData/claims.csv\")"
   ]
  },
  {
   "cell_type": "code",
   "execution_count": 3,
   "metadata": {
    "collapsed": false
   },
   "outputs": [
    {
     "data": {
      "text/html": [
       "<div>\n",
       "<table border=\"1\" class=\"dataframe\">\n",
       "  <thead>\n",
       "    <tr style=\"text-align: right;\">\n",
       "      <th></th>\n",
       "      <th>ClientCode</th>\n",
       "      <th>ClaimNUM</th>\n",
       "      <th>LineNUM</th>\n",
       "      <th>Ee_NUM</th>\n",
       "      <th>Unique</th>\n",
       "      <th>Hcpcscpt4</th>\n",
       "      <th>Revenue</th>\n",
       "      <th>PlaceOfService</th>\n",
       "      <th>From_date</th>\n",
       "      <th>Thru_date</th>\n",
       "      <th>...</th>\n",
       "      <th>ProviderUserDefin</th>\n",
       "      <th>ProviderUserDefin.1</th>\n",
       "      <th>Diag1</th>\n",
       "      <th>Diag2</th>\n",
       "      <th>Diag3</th>\n",
       "      <th>Diag4</th>\n",
       "      <th>ProcedureCode1</th>\n",
       "      <th>ProcedureCode2</th>\n",
       "      <th>ProcedureCode3</th>\n",
       "      <th>ProcedureCode4</th>\n",
       "    </tr>\n",
       "  </thead>\n",
       "  <tbody>\n",
       "    <tr>\n",
       "      <th>0</th>\n",
       "      <td>DHS</td>\n",
       "      <td>2014112467116</td>\n",
       "      <td>10</td>\n",
       "      <td>07500351D</td>\n",
       "      <td>3</td>\n",
       "      <td>99202</td>\n",
       "      <td></td>\n",
       "      <td>11</td>\n",
       "      <td>11/12/2014</td>\n",
       "      <td>11/12/2014</td>\n",
       "      <td>...</td>\n",
       "      <td></td>\n",
       "      <td></td>\n",
       "      <td>754.2</td>\n",
       "      <td>728.85</td>\n",
       "      <td>739.3</td>\n",
       "      <td></td>\n",
       "      <td></td>\n",
       "      <td></td>\n",
       "      <td></td>\n",
       "      <td></td>\n",
       "    </tr>\n",
       "    <tr>\n",
       "      <th>1</th>\n",
       "      <td>DHS</td>\n",
       "      <td>2014112467116</td>\n",
       "      <td>20</td>\n",
       "      <td>07500351D</td>\n",
       "      <td>3</td>\n",
       "      <td>72070</td>\n",
       "      <td></td>\n",
       "      <td>11</td>\n",
       "      <td>11/12/2014</td>\n",
       "      <td>11/12/2014</td>\n",
       "      <td>...</td>\n",
       "      <td></td>\n",
       "      <td></td>\n",
       "      <td>754.2</td>\n",
       "      <td>728.85</td>\n",
       "      <td>739.3</td>\n",
       "      <td></td>\n",
       "      <td></td>\n",
       "      <td></td>\n",
       "      <td></td>\n",
       "      <td></td>\n",
       "    </tr>\n",
       "    <tr>\n",
       "      <th>2</th>\n",
       "      <td>DHS</td>\n",
       "      <td>2014112467116</td>\n",
       "      <td>30</td>\n",
       "      <td>07500351D</td>\n",
       "      <td>3</td>\n",
       "      <td>98940</td>\n",
       "      <td></td>\n",
       "      <td>11</td>\n",
       "      <td>11/12/2014</td>\n",
       "      <td>11/12/2014</td>\n",
       "      <td>...</td>\n",
       "      <td></td>\n",
       "      <td></td>\n",
       "      <td>754.2</td>\n",
       "      <td>728.85</td>\n",
       "      <td>739.3</td>\n",
       "      <td></td>\n",
       "      <td></td>\n",
       "      <td></td>\n",
       "      <td></td>\n",
       "      <td></td>\n",
       "    </tr>\n",
       "    <tr>\n",
       "      <th>3</th>\n",
       "      <td>DHS</td>\n",
       "      <td>2014112467116</td>\n",
       "      <td>40</td>\n",
       "      <td>07500351D</td>\n",
       "      <td>3</td>\n",
       "      <td>98940</td>\n",
       "      <td></td>\n",
       "      <td>11</td>\n",
       "      <td>11/13/2014</td>\n",
       "      <td>11/13/2014</td>\n",
       "      <td>...</td>\n",
       "      <td></td>\n",
       "      <td></td>\n",
       "      <td>754.2</td>\n",
       "      <td>728.85</td>\n",
       "      <td>739.3</td>\n",
       "      <td></td>\n",
       "      <td></td>\n",
       "      <td></td>\n",
       "      <td></td>\n",
       "      <td></td>\n",
       "    </tr>\n",
       "    <tr>\n",
       "      <th>4</th>\n",
       "      <td>DHS</td>\n",
       "      <td>2014120567002</td>\n",
       "      <td>10</td>\n",
       "      <td>07500351D</td>\n",
       "      <td>3</td>\n",
       "      <td>98940</td>\n",
       "      <td></td>\n",
       "      <td>11</td>\n",
       "      <td>11/17/2014</td>\n",
       "      <td>11/17/2014</td>\n",
       "      <td>...</td>\n",
       "      <td></td>\n",
       "      <td></td>\n",
       "      <td>754.2</td>\n",
       "      <td>728.85</td>\n",
       "      <td>739.3</td>\n",
       "      <td></td>\n",
       "      <td></td>\n",
       "      <td></td>\n",
       "      <td></td>\n",
       "      <td></td>\n",
       "    </tr>\n",
       "  </tbody>\n",
       "</table>\n",
       "<p>5 rows × 26 columns</p>\n",
       "</div>"
      ],
      "text/plain": [
       "  ClientCode       ClaimNUM  LineNUM     Ee_NUM  Unique Hcpcscpt4 Revenue  \\\n",
       "0        DHS  2014112467116       10  07500351D       3     99202           \n",
       "1        DHS  2014112467116       20  07500351D       3     72070           \n",
       "2        DHS  2014112467116       30  07500351D       3     98940           \n",
       "3        DHS  2014112467116       40  07500351D       3     98940           \n",
       "4        DHS  2014120567002       10  07500351D       3     98940           \n",
       "\n",
       "   PlaceOfService   From_date   Thru_date      ...        ProviderUserDefin  \\\n",
       "0              11  11/12/2014  11/12/2014      ...                            \n",
       "1              11  11/12/2014  11/12/2014      ...                            \n",
       "2              11  11/12/2014  11/12/2014      ...                            \n",
       "3              11  11/13/2014  11/13/2014      ...                            \n",
       "4              11  11/17/2014  11/17/2014      ...                            \n",
       "\n",
       "   ProviderUserDefin.1  Diag1   Diag2  Diag3 Diag4 ProcedureCode1  \\\n",
       "0                       754.2  728.85  739.3                        \n",
       "1                       754.2  728.85  739.3                        \n",
       "2                       754.2  728.85  739.3                        \n",
       "3                       754.2  728.85  739.3                        \n",
       "4                       754.2  728.85  739.3                        \n",
       "\n",
       "  ProcedureCode2 ProcedureCode3 ProcedureCode4  \n",
       "0                                               \n",
       "1                                               \n",
       "2                                               \n",
       "3                                               \n",
       "4                                               \n",
       "\n",
       "[5 rows x 26 columns]"
      ]
     },
     "execution_count": 3,
     "metadata": {},
     "output_type": "execute_result"
    }
   ],
   "source": [
    "claimsDF.head()"
   ]
  },
  {
   "cell_type": "code",
   "execution_count": 9,
   "metadata": {
    "collapsed": false
   },
   "outputs": [
    {
     "data": {
      "text/plain": [
       "(1413869, 26)"
      ]
     },
     "execution_count": 9,
     "metadata": {},
     "output_type": "execute_result"
    }
   ],
   "source": [
    "claimsDF.shape"
   ]
  },
  {
   "cell_type": "code",
   "execution_count": 11,
   "metadata": {
    "collapsed": false
   },
   "outputs": [
    {
     "data": {
      "text/plain": [
       "587111"
      ]
     },
     "execution_count": 11,
     "metadata": {},
     "output_type": "execute_result"
    }
   ],
   "source": [
    "len(set(claimsDF.ClaimNUM))"
   ]
  },
  {
   "cell_type": "code",
   "execution_count": 15,
   "metadata": {
    "collapsed": false
   },
   "outputs": [
    {
     "data": {
      "text/plain": [
       "2014112467116"
      ]
     },
     "execution_count": 15,
     "metadata": {},
     "output_type": "execute_result"
    }
   ],
   "source": [
    "claimsDF.ClaimNUM[1]"
   ]
  },
  {
   "cell_type": "code",
   "execution_count": 16,
   "metadata": {
    "collapsed": false
   },
   "outputs": [
    {
     "data": {
      "text/plain": [
       "0           52.20\n",
       "1           29.30\n",
       "2           21.36\n",
       "3           21.36\n",
       "4           21.36\n",
       "5           21.36\n",
       "6           21.36\n",
       "7           21.36\n",
       "8           21.36\n",
       "9           21.36\n",
       "10          18.98\n",
       "11           5.00\n",
       "12          16.00\n",
       "13           5.00\n",
       "14          10.00\n",
       "15          10.00\n",
       "16           5.00\n",
       "17          10.00\n",
       "18          16.00\n",
       "19           5.00\n",
       "20          10.00\n",
       "21          10.00\n",
       "22          16.00\n",
       "23          16.00\n",
       "24           5.00\n",
       "25          10.00\n",
       "26          10.00\n",
       "27          16.00\n",
       "28          10.00\n",
       "29          16.00\n",
       "            ...  \n",
       "1413839     29.42\n",
       "1413840     29.42\n",
       "1413841     14.26\n",
       "1413842      4.11\n",
       "1413843     18.09\n",
       "1413844     15.44\n",
       "1413845     12.11\n",
       "1413846     22.38\n",
       "1413847      7.82\n",
       "1413848     12.29\n",
       "1413849      3.92\n",
       "1413850     18.04\n",
       "1413851     14.40\n",
       "1413852     23.79\n",
       "1413853     51.38\n",
       "1413854      0.00\n",
       "1413855      0.00\n",
       "1413856      0.00\n",
       "1413857      0.00\n",
       "1413858      1.70\n",
       "1413859     40.78\n",
       "1413860      6.99\n",
       "1413861     11.66\n",
       "1413862     10.32\n",
       "1413863      9.20\n",
       "1413864    107.72\n",
       "1413865      8.92\n",
       "1413866    293.18\n",
       "1413867     80.31\n",
       "1413868     22.97\n",
       "Name: Paid_amount, dtype: float64"
      ]
     },
     "execution_count": 16,
     "metadata": {},
     "output_type": "execute_result"
    }
   ],
   "source": [
    "claimsDF.Paid_amount"
   ]
  },
  {
   "cell_type": "code",
   "execution_count": null,
   "metadata": {
    "collapsed": true
   },
   "outputs": [],
   "source": []
  }
 ],
 "metadata": {
  "kernelspec": {
   "display_name": "Python 2",
   "language": "python",
   "name": "python2"
  },
  "language_info": {
   "codemirror_mode": {
    "name": "ipython",
    "version": 2
   },
   "file_extension": ".py",
   "mimetype": "text/x-python",
   "name": "python",
   "nbconvert_exporter": "python",
   "pygments_lexer": "ipython2",
   "version": "2.7.10"
  }
 },
 "nbformat": 4,
 "nbformat_minor": 0
}
