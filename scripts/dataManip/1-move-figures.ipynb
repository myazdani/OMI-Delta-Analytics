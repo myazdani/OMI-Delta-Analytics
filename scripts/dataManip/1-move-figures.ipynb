{
 "cells": [
  {
   "cell_type": "code",
   "execution_count": 30,
   "metadata": {
    "collapsed": true
   },
   "outputs": [],
   "source": [
    "import string\n",
    "import re\n",
    "import pandas as pd\n",
    "import os\n",
    "import shutil"
   ]
  },
  {
   "cell_type": "code",
   "execution_count": 4,
   "metadata": {
    "collapsed": true
   },
   "outputs": [],
   "source": [
    "patient_ranks = pd.read_csv(\"../../processedData/ranks/patient_ranks.csv\")\n",
    "procedure_ranks = pd.read_csv(\"../../processedData/ranks/procedure_code_ranks.csv\")\n",
    "diag1_ranks = pd.read_csv(\"../../processedData/ranks/Diag1_code_ranks.csv\")\n"
   ]
  },
  {
   "cell_type": "code",
   "execution_count": 5,
   "metadata": {
    "collapsed": false
   },
   "outputs": [
    {
     "data": {
      "text/html": [
       "<div>\n",
       "<table border=\"1\" class=\"dataframe\">\n",
       "  <thead>\n",
       "    <tr style=\"text-align: right;\">\n",
       "      <th></th>\n",
       "      <th>Ee_NUM.code</th>\n",
       "      <th>Freq</th>\n",
       "    </tr>\n",
       "  </thead>\n",
       "  <tbody>\n",
       "    <tr>\n",
       "      <th>0</th>\n",
       "      <td>07544454D</td>\n",
       "      <td>2354</td>\n",
       "    </tr>\n",
       "    <tr>\n",
       "      <th>1</th>\n",
       "      <td>09000870D</td>\n",
       "      <td>1847</td>\n",
       "    </tr>\n",
       "    <tr>\n",
       "      <th>2</th>\n",
       "      <td>07541994D</td>\n",
       "      <td>1732</td>\n",
       "    </tr>\n",
       "    <tr>\n",
       "      <th>3</th>\n",
       "      <td>07515518D</td>\n",
       "      <td>1723</td>\n",
       "    </tr>\n",
       "    <tr>\n",
       "      <th>4</th>\n",
       "      <td>07614125D</td>\n",
       "      <td>1686</td>\n",
       "    </tr>\n",
       "  </tbody>\n",
       "</table>\n",
       "</div>"
      ],
      "text/plain": [
       "  Ee_NUM.code  Freq\n",
       "0   07544454D  2354\n",
       "1   09000870D  1847\n",
       "2   07541994D  1732\n",
       "3   07515518D  1723\n",
       "4   07614125D  1686"
      ]
     },
     "execution_count": 5,
     "metadata": {},
     "output_type": "execute_result"
    }
   ],
   "source": [
    "patient_ranks.head()"
   ]
  },
  {
   "cell_type": "code",
   "execution_count": 6,
   "metadata": {
    "collapsed": false
   },
   "outputs": [
    {
     "data": {
      "text/html": [
       "<div>\n",
       "<table border=\"1\" class=\"dataframe\">\n",
       "  <thead>\n",
       "    <tr style=\"text-align: right;\">\n",
       "      <th></th>\n",
       "      <th>Procedure.Code</th>\n",
       "      <th>Freq</th>\n",
       "    </tr>\n",
       "  </thead>\n",
       "  <tbody>\n",
       "    <tr>\n",
       "      <th>0</th>\n",
       "      <td>99213</td>\n",
       "      <td>97178</td>\n",
       "    </tr>\n",
       "    <tr>\n",
       "      <th>1</th>\n",
       "      <td>99999</td>\n",
       "      <td>59252</td>\n",
       "    </tr>\n",
       "    <tr>\n",
       "      <th>2</th>\n",
       "      <td>99214</td>\n",
       "      <td>54511</td>\n",
       "    </tr>\n",
       "    <tr>\n",
       "      <th>3</th>\n",
       "      <td>97110</td>\n",
       "      <td>46986</td>\n",
       "    </tr>\n",
       "    <tr>\n",
       "      <th>4</th>\n",
       "      <td>36415</td>\n",
       "      <td>39158</td>\n",
       "    </tr>\n",
       "  </tbody>\n",
       "</table>\n",
       "</div>"
      ],
      "text/plain": [
       "  Procedure.Code   Freq\n",
       "0          99213  97178\n",
       "1          99999  59252\n",
       "2          99214  54511\n",
       "3          97110  46986\n",
       "4          36415  39158"
      ]
     },
     "execution_count": 6,
     "metadata": {},
     "output_type": "execute_result"
    }
   ],
   "source": [
    "procedure_ranks.head()"
   ]
  },
  {
   "cell_type": "code",
   "execution_count": 7,
   "metadata": {
    "collapsed": false
   },
   "outputs": [
    {
     "data": {
      "text/html": [
       "<div>\n",
       "<table border=\"1\" class=\"dataframe\">\n",
       "  <thead>\n",
       "    <tr style=\"text-align: right;\">\n",
       "      <th></th>\n",
       "      <th>Diag1.Code</th>\n",
       "      <th>Freq</th>\n",
       "    </tr>\n",
       "  </thead>\n",
       "  <tbody>\n",
       "    <tr>\n",
       "      <th>0</th>\n",
       "      <td>739.1</td>\n",
       "      <td>32511</td>\n",
       "    </tr>\n",
       "    <tr>\n",
       "      <th>1</th>\n",
       "      <td>724.2</td>\n",
       "      <td>32136</td>\n",
       "    </tr>\n",
       "    <tr>\n",
       "      <th>2</th>\n",
       "      <td>V20.2</td>\n",
       "      <td>25654</td>\n",
       "    </tr>\n",
       "    <tr>\n",
       "      <th>3</th>\n",
       "      <td>723.1</td>\n",
       "      <td>22462</td>\n",
       "    </tr>\n",
       "    <tr>\n",
       "      <th>4</th>\n",
       "      <td>250.00</td>\n",
       "      <td>21311</td>\n",
       "    </tr>\n",
       "  </tbody>\n",
       "</table>\n",
       "</div>"
      ],
      "text/plain": [
       "  Diag1.Code   Freq\n",
       "0      739.1  32511\n",
       "1      724.2  32136\n",
       "2      V20.2  25654\n",
       "3      723.1  22462\n",
       "4     250.00  21311"
      ]
     },
     "execution_count": 7,
     "metadata": {},
     "output_type": "execute_result"
    }
   ],
   "source": [
    "diag1_ranks.head()"
   ]
  },
  {
   "cell_type": "code",
   "execution_count": 33,
   "metadata": {
    "collapsed": true
   },
   "outputs": [],
   "source": [
    "def return_img_paths(src_path, image_type = \".png\"):\n",
    "    image_paths = []\n",
    "    for root, dirs, files in os.walk(src_path):\n",
    "        image_paths.extend([os.path.join(root, f) for f in files if f.endswith(image_type)])\n",
    "    return image_paths\n",
    "\n",
    "def copyFromListToPath(src_paths, dest_path):\n",
    "    for i in range(len(src_paths)): shutil.copy2(src_paths[i], dest_path)\n",
    "\n",
    "def get_image_paths_subset(image_paths, images_subset):\n",
    "    img_paths_subset = [image_path for image_path in image_paths if image_path.split(\"/\")[-1].split(\".png\")[0] in images_subset]\n",
    "    return img_paths_subset\n",
    "\n",
    "def split_figs_two_dirs(figures, split_index, figure_paths, target_dir1, target_dir2):\n",
    "    #\n",
    "    # split a list of figures into two lists by the split_index position\n",
    "    # and copy figures in the two lists to target_dir1 and target_dir2\n",
    "    #\n",
    "    figures_1 = figures[:split_index]\n",
    "    figures_2 = figures[split_index:]\n",
    "    figures_1_paths = get_image_paths_subset(figure_paths, figures_1)\n",
    "    figures_2_paths = get_image_paths_subset(figure_paths, figures_2)\n",
    "    copyFromListToPath(figures_1_paths, target_dir1)\n",
    "    copyFromListToPath(figures_2_paths, target_dir2)"
   ]
  },
  {
   "cell_type": "code",
   "execution_count": 11,
   "metadata": {
    "collapsed": true
   },
   "outputs": [],
   "source": [
    "patient_figs = return_img_paths(\"../../figures/Paid_amount/Ee_NUM/\")\n",
    "diag1_figs = return_img_paths(\"../../figures/Paid_amount/Diag1/\")\n",
    "proc_figs = return_img_paths(\"../../figures/Paid_amount/procedure_code/\")"
   ]
  },
  {
   "cell_type": "code",
   "execution_count": 34,
   "metadata": {
    "collapsed": true
   },
   "outputs": [],
   "source": [
    "split_figs_two_dirs(list(diag1_ranks[\"Diag1.Code\"]), 1000, diag1_figs, \"../../figures/Paid_amount/Diag1/top1K/\", \"../../figures/Paid_amount/Diag1/tail/\")"
   ]
  },
  {
   "cell_type": "code",
   "execution_count": 35,
   "metadata": {
    "collapsed": true
   },
   "outputs": [],
   "source": [
    "split_figs_two_dirs(list(patient_ranks[\"Ee_NUM.code\"]), 1000, patient_figs, \"../../figures/Paid_amount/Ee_NUM/top1K/\", \"../../figures/Paid_amount/Ee_NUM/tail/\")"
   ]
  },
  {
   "cell_type": "code",
   "execution_count": 36,
   "metadata": {
    "collapsed": true
   },
   "outputs": [],
   "source": [
    "split_figs_two_dirs(list(procedure_ranks[\"Procedure.Code\"]), 1000, proc_figs, \"../../figures/Paid_amount/procedure_code/top1K/\", \"../../figures/Paid_amount/procedure_code/tail/\")"
   ]
  },
  {
   "cell_type": "code",
   "execution_count": null,
   "metadata": {
    "collapsed": true
   },
   "outputs": [],
   "source": []
  }
 ],
 "metadata": {
  "kernelspec": {
   "display_name": "Python 2",
   "language": "python",
   "name": "python2"
  },
  "language_info": {
   "codemirror_mode": {
    "name": "ipython",
    "version": 2
   },
   "file_extension": ".py",
   "mimetype": "text/x-python",
   "name": "python",
   "nbconvert_exporter": "python",
   "pygments_lexer": "ipython2",
   "version": "2.7.10"
  }
 },
 "nbformat": 4,
 "nbformat_minor": 0
}
